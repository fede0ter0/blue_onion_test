{
 "cells": [
  {
   "cell_type": "code",
   "execution_count": 1,
   "id": "f3bae066",
   "metadata": {},
   "outputs": [],
   "source": [
    "import pandas as pd\n",
    "import json\n",
    "from sqlalchemy import create_engine"
   ]
  },
  {
   "cell_type": "markdown",
   "id": "849d783c",
   "metadata": {},
   "source": [
    "## The Task (Part 2)"
   ]
  },
  {
   "cell_type": "markdown",
   "id": "edd27995",
   "metadata": {},
   "source": [
    "Write code (ideally in Python) to import the relevant fields in starlink_historical_data.json as a time series. \n",
    "The relevant fields are: - spaceTrack.creation_date (represents the time that the lat/lon records were recorded) - \n",
    "longitude - latitude - id (this is the starlink satellite id) Again, the goal is that we want to be able to query \n",
    "the database for the last known position for a given starlink satellite. Don't hesitate to use any tools/tricks \n",
    "you know to load data quickly and easily!"
   ]
  },
  {
   "cell_type": "code",
   "execution_count": 2,
   "id": "0c7aa229",
   "metadata": {},
   "outputs": [],
   "source": [
    "starlink_historical_data = pd.read_json('../starlink_historical_data.json')"
   ]
  },
  {
   "cell_type": "code",
   "execution_count": 3,
   "id": "30e18c04",
   "metadata": {},
   "outputs": [],
   "source": [
    "starlink_historical_data_time_series =  starlink_historical_data[['latitude','longitude','id','spaceTrack']]"
   ]
  },
  {
   "cell_type": "code",
   "execution_count": 4,
   "id": "a467d765",
   "metadata": {},
   "outputs": [],
   "source": [
    "starlink_hd_ts_extended = pd.concat([starlink_historical_data_time_series[['latitude','longitude','id']],\\\n",
    "pd.DataFrame(starlink_historical_data_time_series['spaceTrack'].values.tolist())], axis=1)"
   ]
  },
  {
   "cell_type": "code",
   "execution_count": 5,
   "id": "007ab64f",
   "metadata": {},
   "outputs": [],
   "source": [
    "starlink_hd_ts_extended = starlink_hd_ts_extended[['latitude','longitude','id','CREATION_DATE']].\\\n",
    "rename(columns={'CREATION_DATE':'creation_date'})"
   ]
  },
  {
   "cell_type": "code",
   "execution_count": 6,
   "id": "25b529aa",
   "metadata": {},
   "outputs": [],
   "source": [
    "starlink_hd_ts_extended['creation_date'] = pd.to_datetime(starlink_hd_ts_extended['creation_date'])\n",
    "starlink_hd_ts_extended['creation_day_of_month'] = starlink_hd_ts_extended['creation_date'].dt.day"
   ]
  },
  {
   "cell_type": "code",
   "execution_count": 7,
   "id": "2a3c7c32",
   "metadata": {},
   "outputs": [],
   "source": [
    "starlink_hd_ts_extended = starlink_hd_ts_extended[['id','creation_date','creation_day_of_month','latitude','longitude']].\\\n",
    "rename(columns={'id':'_id','creation_date':'_at','creation_day_of_month':'day_of_month'})"
   ]
  },
  {
   "cell_type": "code",
   "execution_count": 8,
   "id": "25b13d48",
   "metadata": {},
   "outputs": [
    {
     "data": {
      "text/html": [
       "<div>\n",
       "<style scoped>\n",
       "    .dataframe tbody tr th:only-of-type {\n",
       "        vertical-align: middle;\n",
       "    }\n",
       "\n",
       "    .dataframe tbody tr th {\n",
       "        vertical-align: top;\n",
       "    }\n",
       "\n",
       "    .dataframe thead th {\n",
       "        text-align: right;\n",
       "    }\n",
       "</style>\n",
       "<table border=\"1\" class=\"dataframe\">\n",
       "  <thead>\n",
       "    <tr style=\"text-align: right;\">\n",
       "      <th></th>\n",
       "      <th>_id</th>\n",
       "      <th>_at</th>\n",
       "      <th>day_of_month</th>\n",
       "      <th>latitude</th>\n",
       "      <th>longitude</th>\n",
       "    </tr>\n",
       "  </thead>\n",
       "  <tbody>\n",
       "    <tr>\n",
       "      <th>0</th>\n",
       "      <td>5eed770f096e59000698560d</td>\n",
       "      <td>2020-10-13 04:16:08</td>\n",
       "      <td>13</td>\n",
       "      <td>NaN</td>\n",
       "      <td>86</td>\n",
       "    </tr>\n",
       "    <tr>\n",
       "      <th>1</th>\n",
       "      <td>5eed770f096e59000698560e</td>\n",
       "      <td>2020-09-28 19:26:08</td>\n",
       "      <td>28</td>\n",
       "      <td>NaN</td>\n",
       "      <td>48</td>\n",
       "    </tr>\n",
       "    <tr>\n",
       "      <th>2</th>\n",
       "      <td>5eed770f096e59000698560f</td>\n",
       "      <td>2020-10-13 17:46:09</td>\n",
       "      <td>13</td>\n",
       "      <td>NaN</td>\n",
       "      <td>62</td>\n",
       "    </tr>\n",
       "    <tr>\n",
       "      <th>3</th>\n",
       "      <td>5eed770f096e590006985610</td>\n",
       "      <td>2021-01-26 02:30:00</td>\n",
       "      <td>26</td>\n",
       "      <td>25.453949</td>\n",
       "      <td>109</td>\n",
       "    </tr>\n",
       "    <tr>\n",
       "      <th>4</th>\n",
       "      <td>5eed770f096e590006985611</td>\n",
       "      <td>2020-09-02 18:57:38</td>\n",
       "      <td>2</td>\n",
       "      <td>NaN</td>\n",
       "      <td>118</td>\n",
       "    </tr>\n",
       "    <tr>\n",
       "      <th>...</th>\n",
       "      <td>...</td>\n",
       "      <td>...</td>\n",
       "      <td>...</td>\n",
       "      <td>...</td>\n",
       "      <td>...</td>\n",
       "    </tr>\n",
       "    <tr>\n",
       "      <th>3136</th>\n",
       "      <td>60106f20e900d60006e32cc2</td>\n",
       "      <td>2020-05-19 06:26:10</td>\n",
       "      <td>19</td>\n",
       "      <td>7.145826</td>\n",
       "      <td>164</td>\n",
       "    </tr>\n",
       "    <tr>\n",
       "      <th>3137</th>\n",
       "      <td>60106f20e900d60006e32cbd</td>\n",
       "      <td>2020-05-19 06:26:10</td>\n",
       "      <td>19</td>\n",
       "      <td>0.699360</td>\n",
       "      <td>141</td>\n",
       "    </tr>\n",
       "    <tr>\n",
       "      <th>3138</th>\n",
       "      <td>60106f20e900d60006e32cc4</td>\n",
       "      <td>2020-05-19 06:26:10</td>\n",
       "      <td>19</td>\n",
       "      <td>0.007645</td>\n",
       "      <td>104</td>\n",
       "    </tr>\n",
       "    <tr>\n",
       "      <th>3139</th>\n",
       "      <td>60106f21e900d60006e32cc8</td>\n",
       "      <td>2020-05-19 22:56:10</td>\n",
       "      <td>19</td>\n",
       "      <td>-1.360752</td>\n",
       "      <td>3</td>\n",
       "    </tr>\n",
       "    <tr>\n",
       "      <th>3140</th>\n",
       "      <td>60106f21e900d60006e32cc7</td>\n",
       "      <td>2020-05-19 06:26:10</td>\n",
       "      <td>19</td>\n",
       "      <td>1.774736</td>\n",
       "      <td>119</td>\n",
       "    </tr>\n",
       "  </tbody>\n",
       "</table>\n",
       "<p>3141 rows × 5 columns</p>\n",
       "</div>"
      ],
      "text/plain": [
       "                           _id                 _at  day_of_month   latitude  \\\n",
       "0     5eed770f096e59000698560d 2020-10-13 04:16:08            13        NaN   \n",
       "1     5eed770f096e59000698560e 2020-09-28 19:26:08            28        NaN   \n",
       "2     5eed770f096e59000698560f 2020-10-13 17:46:09            13        NaN   \n",
       "3     5eed770f096e590006985610 2021-01-26 02:30:00            26  25.453949   \n",
       "4     5eed770f096e590006985611 2020-09-02 18:57:38             2        NaN   \n",
       "...                        ...                 ...           ...        ...   \n",
       "3136  60106f20e900d60006e32cc2 2020-05-19 06:26:10            19   7.145826   \n",
       "3137  60106f20e900d60006e32cbd 2020-05-19 06:26:10            19   0.699360   \n",
       "3138  60106f20e900d60006e32cc4 2020-05-19 06:26:10            19   0.007645   \n",
       "3139  60106f21e900d60006e32cc8 2020-05-19 22:56:10            19  -1.360752   \n",
       "3140  60106f21e900d60006e32cc7 2020-05-19 06:26:10            19   1.774736   \n",
       "\n",
       "      longitude  \n",
       "0            86  \n",
       "1            48  \n",
       "2            62  \n",
       "3           109  \n",
       "4           118  \n",
       "...         ...  \n",
       "3136        164  \n",
       "3137        141  \n",
       "3138        104  \n",
       "3139          3  \n",
       "3140        119  \n",
       "\n",
       "[3141 rows x 5 columns]"
      ]
     },
     "execution_count": 8,
     "metadata": {},
     "output_type": "execute_result"
    }
   ],
   "source": [
    "starlink_hd_ts_extended"
   ]
  },
  {
   "cell_type": "code",
   "execution_count": 9,
   "id": "a5a6075f",
   "metadata": {},
   "outputs": [],
   "source": [
    "user, password, host, port, db, schema = ('postgres','4y7sV96vA9wv46VR','0.0.0.0','5432','postgres','blue_onion')"
   ]
  },
  {
   "cell_type": "code",
   "execution_count": 10,
   "id": "51d511ed",
   "metadata": {},
   "outputs": [],
   "source": [
    "conn_string = f\"postgresql://{user}:{password}@{host}:{port}/{db}\"\n",
    "conn = create_engine(conn_string).connect()\n",
    "starlink_hd_ts_extended.to_sql('starlink_data_points', con=conn, schema=schema, if_exists='append', index=False)\n",
    "conn.close()"
   ]
  },
  {
   "cell_type": "markdown",
   "id": "4ed62844",
   "metadata": {},
   "source": [
    "## The Task (Part 3)"
   ]
  },
  {
   "cell_type": "markdown",
   "id": "56f96e4f",
   "metadata": {},
   "source": [
    "Write logic to fetch/query the last known position of a satellite (by id), given a time T. \n",
    "Include this query in your README or somewhere in the project submission"
   ]
  },
  {
   "cell_type": "code",
   "execution_count": 69,
   "id": "9ec2c75c",
   "metadata": {},
   "outputs": [],
   "source": [
    "user, password, host, port, db, schema = ('postgres','4y7sV96vA9wv46VR','0.0.0.0','5432','postgres','blue_onion')"
   ]
  },
  {
   "cell_type": "code",
   "execution_count": 73,
   "id": "68fe2a12",
   "metadata": {},
   "outputs": [],
   "source": [
    "def last_known_position(_id,data_time_point):\n",
    "    stringyfied_timestamp = datetime.strftime(data_time_point,'%Y/%m/%d %H:%M:%S')\n",
    "    \n",
    "    conn_string = f\"postgresql://{user}:{password}@{host}:{port}/{db}\"\n",
    "    conn = create_engine(conn_string).connect()\n",
    "    res = conn.execute(\n",
    "    f\"\"\"\n",
    "    select _id, latitude, longitude\n",
    "    from blue_onion.starlink_data_points\n",
    "    where _id = '{_id}' and _at = \n",
    "    (\n",
    "    select max(_at) from blue_onion.starlink_data_points\n",
    "    where _id = '{_id}' and _at <= '{stringyfied_timestamp}'\n",
    "    )\n",
    "    \"\"\")\n",
    "    \n",
    "    try:\n",
    "        last_position_row = res.first()\n",
    "        last_position = (last_position_row[1],last_position_row[2])\n",
    "        return last_position\n",
    "    except:\n",
    "        return (-1,-1)"
   ]
  },
  {
   "cell_type": "code",
   "execution_count": 75,
   "id": "bfa7d0c1",
   "metadata": {
    "scrolled": true
   },
   "outputs": [
    {
     "name": "stdout",
     "output_type": "stream",
     "text": [
      "lets see the last position: (-1, -1)\n"
     ]
    }
   ],
   "source": [
    "timestamp_str = '2021-01-26 07:00:00'\n",
    "_id = '5eed7714096e59000698563e'\n",
    "data_time_point = datetime.strptime(timestamp_str, '%Y-%m-%d %H:%M:%S')\n",
    "last_position = last_known_position(_id,data_time_point)\n",
    "\n",
    "print(f'lets see the last position: {last_position}')"
   ]
  },
  {
   "cell_type": "markdown",
   "id": "7ae20151",
   "metadata": {},
   "source": [
    "## Bonus Task (Part 4)"
   ]
  },
  {
   "cell_type": "markdown",
   "id": "a79ba4a9",
   "metadata": {},
   "source": [
    "Write some logic (via a combination of query + application logic, most likely) to fetch from the \n",
    "database the closest satellite at a given time T, and a given a position on a globe as a (latitude, longitude) \n",
    "coordinate. No need to derive any fancy math for distances for a point on the globe to a position above the earth. \n",
    "You can just use the Haversine formula. Example library to help here https://github.com/mapado/haversine\n",
    "\n",
    "    \n",
    "    "
   ]
  }
 ],
 "metadata": {
  "kernelspec": {
   "display_name": "Python 3 (ipykernel)",
   "language": "python",
   "name": "python3"
  },
  "language_info": {
   "codemirror_mode": {
    "name": "ipython",
    "version": 3
   },
   "file_extension": ".py",
   "mimetype": "text/x-python",
   "name": "python",
   "nbconvert_exporter": "python",
   "pygments_lexer": "ipython3",
   "version": "3.10.8"
  }
 },
 "nbformat": 4,
 "nbformat_minor": 5
}
